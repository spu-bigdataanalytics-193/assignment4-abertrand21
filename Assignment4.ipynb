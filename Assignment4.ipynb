{
  "nbformat": 4,
  "nbformat_minor": 0,
  "metadata": {
    "colab": {
      "name": "Assignment4.ipynb",
      "provenance": []
    },
    "kernelspec": {
      "name": "python3",
      "display_name": "Python 3"
    }
  },
  "cells": [
    {
      "cell_type": "markdown",
      "metadata": {
        "id": "5DTLzF6yu9dZ",
        "colab_type": "text"
      },
      "source": [
        "Install Spark\n"
      ]
    },
    {
      "cell_type": "code",
      "metadata": {
        "id": "joNXkVxbqLDe",
        "colab_type": "code",
        "colab": {}
      },
      "source": [
        "# install java libs and spark.\n",
        "! apt-get install openjdk-8-jdk-headless -qq > /dev/null\n",
        "! wget -q https://www-us.apache.org/dist/spark/spark-2.4.4/spark-2.4.4-bin-hadoop2.7.tgz\n",
        "! tar xf spark-2.4.4-bin-hadoop2.7.tgz\n",
        "! pip install -q findspark\n",
        "import os\n",
        "os.environ[\"JAVA_HOME\"] = \"/usr/lib/jvm/java-8-openjdk-amd64\"\n",
        "os.environ[\"SPARK_HOME\"] = \"/content/spark-2.4.4-bin-hadoop2.7\""
      ],
      "execution_count": 0,
      "outputs": []
    },
    {
      "cell_type": "markdown",
      "metadata": {
        "id": "K7e4_I3Purug",
        "colab_type": "text"
      },
      "source": [
        "Import pyspark\n"
      ]
    },
    {
      "cell_type": "code",
      "metadata": {
        "id": "a3MPCjoTqLuk",
        "colab_type": "code",
        "colab": {}
      },
      "source": [
        "import findspark\n",
        "findspark.init()\n",
        "from pyspark.sql import SparkSession\n",
        "\n",
        "spark = SparkSession.builder \\\n",
        "    .master(\"local[*]\") \\\n",
        "    .appName(\"Counting_Carriers\") \\\n",
        "    .getOrCreate()\n",
        "  "
      ],
      "execution_count": 0,
      "outputs": []
    },
    {
      "cell_type": "code",
      "metadata": {
        "id": "VzWrTZM92s39",
        "colab_type": "code",
        "colab": {
          "base_uri": "https://localhost:8080/",
          "height": 34
        },
        "outputId": "30a1f906-096e-4db9-eeca-b757a6912612"
      },
      "source": [
        "from google.colab import drive\n",
        "drive.mount('/content/drive')"
      ],
      "execution_count": 16,
      "outputs": [
        {
          "output_type": "stream",
          "text": [
            "Drive already mounted at /content/drive; to attempt to forcibly remount, call drive.mount(\"/content/drive\", force_remount=True).\n"
          ],
          "name": "stdout"
        }
      ]
    },
    {
      "cell_type": "code",
      "metadata": {
        "id": "m4AKi6fO3yPd",
        "colab_type": "code",
        "colab": {}
      },
      "source": [
        "spark = SparkSession.builder.appName(\"Counting_Carriers\").master(\"local[*]\").getOrCreate()"
      ],
      "execution_count": 0,
      "outputs": []
    },
    {
      "cell_type": "markdown",
      "metadata": {
        "id": "hYzB2Eqe7wG_",
        "colab_type": "text"
      },
      "source": [
        "Loading the Data\n"
      ]
    },
    {
      "cell_type": "code",
      "metadata": {
        "id": "-u85ftqz38jc",
        "colab_type": "code",
        "colab": {
          "base_uri": "https://localhost:8080/",
          "height": 54
        },
        "outputId": "2380e61d-91d8-4844-e560-abc3d27e4a17"
      },
      "source": [
        "sc = spark.sparkContext\n",
        "rdd = sc.textFile('/content/drive/My Drive/1987.csv.bz2')\n",
        "rdd.take(1)"
      ],
      "execution_count": 20,
      "outputs": [
        {
          "output_type": "execute_result",
          "data": {
            "text/plain": [
              "['Year,Month,DayofMonth,DayOfWeek,DepTime,CRSDepTime,ArrTime,CRSArrTime,UniqueCarrier,FlightNum,TailNum,ActualElapsedTime,CRSElapsedTime,AirTime,ArrDelay,DepDelay,Origin,Dest,Distance,TaxiIn,TaxiOut,Cancelled,CancellationCode,Diverted,CarrierDelay,WeatherDelay,NASDelay,SecurityDelay,LateAircraftDelay']"
            ]
          },
          "metadata": {
            "tags": []
          },
          "execution_count": 20
        }
      ]
    },
    {
      "cell_type": "code",
      "metadata": {
        "id": "awbU9jtx4Yts",
        "colab_type": "code",
        "colab": {
          "base_uri": "https://localhost:8080/",
          "height": 34
        },
        "outputId": "1a157e09-2cf5-40ac-cfbd-2a05f5c59395"
      },
      "source": [
        "rdd.count()"
      ],
      "execution_count": 21,
      "outputs": [
        {
          "output_type": "execute_result",
          "data": {
            "text/plain": [
              "1311827"
            ]
          },
          "metadata": {
            "tags": []
          },
          "execution_count": 21
        }
      ]
    },
    {
      "cell_type": "markdown",
      "metadata": {
        "id": "HIXTfY8e8AQZ",
        "colab_type": "text"
      },
      "source": [
        "Mapping"
      ]
    },
    {
      "cell_type": "code",
      "metadata": {
        "id": "ps4O2KJl5WMi",
        "colab_type": "code",
        "colab": {
          "base_uri": "https://localhost:8080/",
          "height": 34
        },
        "outputId": "8b34b905-cdc1-46a4-d2c1-2e2aa4d9edc7"
      },
      "source": [
        "rdd1 = rdd.map(lambda x: x.split(',')[8]).filter(lambda x : 'UniqueCarrier' not in x)\n",
        "rdd1.take(10)"
      ],
      "execution_count": 27,
      "outputs": [
        {
          "output_type": "execute_result",
          "data": {
            "text/plain": [
              "['PS', 'PS', 'PS', 'PS', 'PS', 'PS', 'PS', 'PS', 'PS', 'PS']"
            ]
          },
          "metadata": {
            "tags": []
          },
          "execution_count": 27
        }
      ]
    },
    {
      "cell_type": "code",
      "metadata": {
        "id": "VBXSHGPT5smP",
        "colab_type": "code",
        "colab": {
          "base_uri": "https://localhost:8080/",
          "height": 34
        },
        "outputId": "33486559-8215-4465-c2a5-35507dbbe59d"
      },
      "source": [
        "rdd2 = rdd1.map(lambda x:(x,1))\n",
        "rdd2.take(3)"
      ],
      "execution_count": 28,
      "outputs": [
        {
          "output_type": "execute_result",
          "data": {
            "text/plain": [
              "[('PS', 1), ('PS', 1), ('PS', 1)]"
            ]
          },
          "metadata": {
            "tags": []
          },
          "execution_count": 28
        }
      ]
    },
    {
      "cell_type": "markdown",
      "metadata": {
        "id": "IRd0jjrv8JE8",
        "colab_type": "text"
      },
      "source": [
        "Suffling & Reducing"
      ]
    },
    {
      "cell_type": "code",
      "metadata": {
        "id": "rJ2pPUqU5vsI",
        "colab_type": "code",
        "colab": {
          "base_uri": "https://localhost:8080/",
          "height": 255
        },
        "outputId": "8f4501fa-2659-4731-d304-810361d25ebf"
      },
      "source": [
        "rdd3 = rdd2.reduceByKey(lambda x,y: x+y)\n",
        "rdd3.take(30)"
      ],
      "execution_count": 30,
      "outputs": [
        {
          "output_type": "execute_result",
          "data": {
            "text/plain": [
              "[('TW', 69650),\n",
              " ('UA', 152624),\n",
              " ('WN', 61975),\n",
              " ('HP', 45399),\n",
              " ('PA (1)', 16785),\n",
              " ('CO', 123002),\n",
              " ('AA', 165121),\n",
              " ('AS', 21406),\n",
              " ('PS', 41706),\n",
              " ('EA', 108776),\n",
              " ('NW', 108273),\n",
              " ('PI', 116482),\n",
              " ('DL', 185813),\n",
              " ('US', 94814)]"
            ]
          },
          "metadata": {
            "tags": []
          },
          "execution_count": 30
        }
      ]
    },
    {
      "cell_type": "code",
      "metadata": {
        "id": "wrUz4z2J7JH4",
        "colab_type": "code",
        "colab": {}
      },
      "source": [
        ""
      ],
      "execution_count": 0,
      "outputs": []
    },
    {
      "cell_type": "code",
      "metadata": {
        "id": "RGYkU9DL6Rmb",
        "colab_type": "code",
        "colab": {}
      },
      "source": [
        ""
      ],
      "execution_count": 0,
      "outputs": []
    },
    {
      "cell_type": "code",
      "metadata": {
        "id": "CnfLH-QI6LHy",
        "colab_type": "code",
        "colab": {}
      },
      "source": [
        ""
      ],
      "execution_count": 0,
      "outputs": []
    },
    {
      "cell_type": "code",
      "metadata": {
        "id": "RGwJ9lWL4W3B",
        "colab_type": "code",
        "colab": {}
      },
      "source": [
        ""
      ],
      "execution_count": 0,
      "outputs": []
    },
    {
      "cell_type": "code",
      "metadata": {
        "id": "_hjlLwYn4O1q",
        "colab_type": "code",
        "colab": {}
      },
      "source": [
        ""
      ],
      "execution_count": 0,
      "outputs": []
    },
    {
      "cell_type": "code",
      "metadata": {
        "id": "8PyDnWtWw_Wv",
        "colab_type": "code",
        "colab": {}
      },
      "source": [
        ""
      ],
      "execution_count": 0,
      "outputs": []
    },
    {
      "cell_type": "code",
      "metadata": {
        "id": "poik8GhZvh_7",
        "colab_type": "code",
        "colab": {}
      },
      "source": [
        ""
      ],
      "execution_count": 0,
      "outputs": []
    }
  ]
}